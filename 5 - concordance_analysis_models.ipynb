{
 "cells": [
  {
   "cell_type": "code",
   "execution_count": null,
   "metadata": {},
   "outputs": [],
   "source": [
    "# Import necessary libraries\n",
    "import pandas as pd\n",
    "import os\n",
    "from pycaret.regression import *"
   ]
  },
  {
   "cell_type": "code",
   "execution_count": null,
   "metadata": {},
   "outputs": [],
   "source": [
    "# Initiate important variables\n",
    "target_id = [\n",
    "    'CHEMBL238', \n",
    "    'CHEMBL218', \n",
    "    'CHEMBL3650', \n",
    "    'CHEMBL220', \n",
    "    'CHEMBL248', \n",
    "]\n",
    "fingerprint_list = [\n",
    "    'ECFP6_2048',\n",
    "    'mol2vec',\n",
    "    'pubchem',\n",
    "    'pairfps',\n",
    "    'rdk']\n",
    "model_id = 'lightgbm'"
   ]
  },
  {
   "cell_type": "code",
   "execution_count": null,
   "metadata": {},
   "outputs": [],
   "source": [
    "# Create and record model metrics in a for loop\n",
    "for x in target_id:\n",
    "    for y in fingerprint_list:\n",
    "        df = pd.read_csv(f'fingerprints\\{x}_{y}.csv')\n",
    "        reg = setup(df, target='pIC50', session_id=42, use_gpu=True, train_size=0.7, normalize=True, normalize_method='minmax', silent=True)\n",
    "        model = create_model(model_id)\n",
    "        path = f'models/{model_id}/{x}'\n",
    "        isExist = os.path.exists(path)\n",
    "        if not isExist:\n",
    "        # Create a new directory because it does not exist \n",
    "            os.makedirs(path)\n",
    "        os.chdir(f'models/{model_id}/{x}')\n",
    "        predicted = predict_model(model)\n",
    "        predicted_metrics = pull()\n",
    "        predicted_metrics['CHEMBLID'] = x\n",
    "        predicted_metrics['fingerprint'] = y\n",
    "        predicted_metrics['algorithm'] = model_id\n",
    "        predicted_metrics.to_csv(f'{x}_{y}_{model_id}_predicted_metrics.csv', index = False)\n",
    "        if y == 'pubchem':\n",
    "            interpret_model(model, save = True)\n",
    "            interpret_model(model, plot = 'pfi', save = True)\n",
    "        final = finalize_model(model)\n",
    "        save_model(final, f'{x}_{y}_{model_id}_pipeline')\n",
    "\n",
    "        os.chdir('..')\n",
    "        os.chdir('..')\n",
    "        os.chdir('..')"
   ]
  }
 ],
 "metadata": {
  "language_info": {
   "name": "python"
  },
  "orig_nbformat": 4
 },
 "nbformat": 4,
 "nbformat_minor": 2
}
