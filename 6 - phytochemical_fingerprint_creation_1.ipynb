{
 "cells": [
  {
   "cell_type": "code",
   "execution_count": null,
   "metadata": {},
   "outputs": [],
   "source": [
    "# Import necessary libraries\n",
    "import pandas as pd\n",
    "import numpy as np\n",
    "from rdkit import Chem\n",
    "from rdkit.Chem import AllChem\n",
    "from rdkit.Chem import rdFingerprintGenerator\n",
    "from MACCS import *"
   ]
  },
  {
   "cell_type": "code",
   "execution_count": null,
   "metadata": {},
   "outputs": [],
   "source": [
    "# Initiate important variable and functions\n",
    "def molsmile (smiles):\n",
    "    moldata = []\n",
    "    for m in smiles: # iterate through iterables in smiles\n",
    "        mol = Chem.MolFromSmiles(m) # convert smiles to mols\n",
    "        moldata.append(mol)\n",
    "    return moldata\n",
    "    \n",
    "radius = [3]\n",
    "bit_num = [2048]\n",
    "combined = [(r,b) for r in radius for b in bit_num]\n",
    "t = 'phytochem'"
   ]
  },
  {
   "cell_type": "code",
   "execution_count": null,
   "metadata": {},
   "outputs": [],
   "source": [
    "# Select a random 200 compound from the KEGG Phytochemical Database List\n",
    "df = pd.read_csv('phytochem_data/phytochem_compound_list.csv')\n",
    "df = df.sample(n = 200, random_state = 42)\n",
    "name_series = df.cmpdname\n",
    "smile_series = df.isosmiles\n",
    "name_series.to_csv(f'phytochem_data/fingerprints/phytochem_names.csv', index=False)\n",
    "smile_series.to_csv(f'phytochem_data/smiles/phytochem_smiles.csv', index=False)\n",
    "smiles_list = df.isosmiles.to_list()\n",
    "mol_list = molsmile(smiles_list) # turn list to mol data"
   ]
  },
  {
   "cell_type": "code",
   "execution_count": null,
   "metadata": {},
   "outputs": [],
   "source": [
    "# Generate Fingerprints\n",
    "# Atom Pair Generator\n",
    "fpgen = AllChem.GetAtomPairGenerator()\n",
    "pairfps = [fpgen.GetFingerprint(x) for x in mol_list]\n",
    "pairfps_lists = [list(l) for l in pairfps]\n",
    "pairfps_name = [f'pairfps_bit_{i}' for i in range(len(pairfps[1]))] \n",
    "pairfps_df = pd.DataFrame(pairfps_lists, columns=pairfps_name)\n",
    "pairfps_df.to_csv(f'phytochem_data/fingerprints/{t}_pairfps.csv', index=False)\n",
    "\n",
    "# ECFP Generator\n",
    "for r, b, in combined:\n",
    "    fingerprint = [AllChem.GetMorganFingerprintAsBitVect(x,r, nBits = b) for x in mol_list] # Create efcp6 fingerprints\n",
    "    fingerprint_lists = [list(l) for l in fingerprint] # turn fingerprints to list\n",
    "    fingerprint_name = [f'ecfp_bit_{i}' for i in range(len(fingerprint[1]))] # create bit name\n",
    "    fingerprint_df = pd.DataFrame(fingerprint_lists, columns=fingerprint_name) # create efcp dataframe\n",
    "    rad_name = r*2\n",
    "    fingerprint_df.to_csv(f'phytochem_data/fingerprints/{t}_ECFP{rad_name}_{b}.csv', index=False)\n",
    "\n",
    "# RDKit Fingerprint Generator\n",
    "fpgen = AllChem.GetRDKitFPGenerator()\n",
    "rdk = [fpgen.GetFingerprint(x) for x in mol_list]\n",
    "rdk_lists = [list(l) for l in rdk]\n",
    "rdk_name = [f'rdk_bit_{i}' for i in range(len(rdk[1]))] \n",
    "rdk_df = pd.DataFrame(rdk_lists, columns=rdk_name)\n",
    "rdk_df.to_csv(f'phytochem_data/fingerprints/{t}_rdk.csv', index=False)"
   ]
  }
 ],
 "metadata": {
  "language_info": {
   "name": "python"
  },
  "orig_nbformat": 4
 },
 "nbformat": 4,
 "nbformat_minor": 2
}
