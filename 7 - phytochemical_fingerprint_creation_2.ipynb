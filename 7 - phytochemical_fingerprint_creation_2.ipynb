{
 "cells": [
  {
   "cell_type": "code",
   "execution_count": null,
   "metadata": {},
   "outputs": [],
   "source": [
    "import numpy as np\n",
    "from PyFingerprint.fingerprint import get_fingerprint, get_fingerprints\n",
    "import pandas as pd"
   ]
  },
  {
   "cell_type": "code",
   "execution_count": null,
   "metadata": {},
   "outputs": [],
   "source": [
    "fingerprints = [\n",
    "    'pubchem',\n",
    "    'klekota-roth', \n",
    "    'mol2vec'\n",
    "]\n",
    "target_list = [\n",
    "'phytochem'\n",
    "]"
   ]
  },
  {
   "cell_type": "code",
   "execution_count": null,
   "metadata": {},
   "outputs": [],
   "source": [
    "for t in target_list:\n",
    "    df = pd.read_csv(f'phytochem_data/smiles/{t}_smiles.csv')\n",
    "    smiles_list = df.isosmiles.to_list()\n",
    "    print(f'{t} is successfully loaded')\n",
    "    \n",
    "    output = {}\n",
    "    for f in fingerprints:\n",
    "        output [f]= get_fingerprints(smiles_list, f)\n",
    "    print(f'{t} fingerprints creation successful')\n",
    "    \n",
    "    output_np = output.copy()\n",
    "    for k, fps in output.items():\n",
    "        output_np[k] = np.array([fp.to_numpy() for fp in fps])\n",
    "    print(f'{t} numpy array creation successful')\n",
    "\n",
    "    for n in fingerprints:\n",
    "        if n == 'mol2vec':\n",
    "            sep_array = np.asarray(output_np[n], dtype='float32')\n",
    "            name = [f'{n}_{i}' for i in range(len(sep_array[1]))]\n",
    "            df_fp = pd.DataFrame(sep_array, columns = name)\n",
    "            df_fp.to_csv(f'phytochem_data/fingerprints/{t}_{n}.csv', index=False)\n",
    "            print(f'{t} {n} fingerprint have been saved')\n",
    "        else:            \n",
    "            sep_array = np.asarray(output_np[n], dtype='int')\n",
    "            name = [f'{n}_{i}' for i in range(len(sep_array[1]))]\n",
    "            df_fp = pd.DataFrame(sep_array, columns = name)\n",
    "            df_fp.to_csv(f'phytochem_data/fingerprints/{t}_{n}.csv', index=False)\n",
    "            print(f'{t} {n} fingerprint have been saved')"
   ]
  }
 ],
 "metadata": {
  "language_info": {
   "name": "python"
  },
  "orig_nbformat": 4
 },
 "nbformat": 4,
 "nbformat_minor": 2
}
