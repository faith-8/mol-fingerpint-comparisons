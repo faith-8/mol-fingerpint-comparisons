{
 "cells": [
  {
   "cell_type": "code",
   "execution_count": null,
   "metadata": {},
   "outputs": [],
   "source": [
    "import pandas as pd\n",
    "from pycaret.regression import *"
   ]
  },
  {
   "cell_type": "code",
   "execution_count": null,
   "metadata": {},
   "outputs": [],
   "source": [
    "target_id = [\n",
    "    'CHEMBL238', \n",
    "    'CHEMBL218', \n",
    "    'CHEMBL3650', \n",
    "    'CHEMBL220', \n",
    "    'CHEMBL248', \n",
    "]\n",
    "fingerprint_list = [\n",
    "    'ECFP6_2048',\n",
    "    'mol2vec',\n",
    "    'pubchem',\n",
    "    'pairfps',\n",
    "    'rdk'\n",
    "]\n",
    "model_id = 'lightgbm'"
   ]
  },
  {
   "cell_type": "code",
   "execution_count": null,
   "metadata": {},
   "outputs": [],
   "source": [
    "df_names = pd.read_csv('phytochem_data/fingerprints/phytochem_names.csv')\n",
    "for a in fingerprint_list:\n",
    "    for b in target_id:\n",
    "        df = pd.read_csv(f'phytochem_data/fingerprints/phytochem_{a}.csv')\n",
    "        model = load_model(f'models/lightgbm/{b}/{b}_{a}_{model_id}_pipeline')\n",
    "        df_predict = predict_model(model, data=df)\n",
    "        df_predict.rename(columns={'Label':f'{b}_{a}'}, inplace=True)\n",
    "        df_names = pd.concat([df_names, df_predict[f'{b}_{a}']], axis= 1)\n",
    "df_names.to_csv('predicted_IC50_for_concordance.csv', index=False)"
   ]
  }
 ],
 "metadata": {
  "language_info": {
   "name": "python"
  },
  "orig_nbformat": 4
 },
 "nbformat": 4,
 "nbformat_minor": 2
}
