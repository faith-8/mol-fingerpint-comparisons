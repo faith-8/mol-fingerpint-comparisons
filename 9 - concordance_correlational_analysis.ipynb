{
 "cells": [
  {
   "cell_type": "code",
   "execution_count": null,
   "metadata": {},
   "outputs": [],
   "source": [
    "# Import necessary packages\n",
    "import pandas as pd\n",
    "from pyCompare import blandAltman\n",
    "import seaborn as sns\n",
    "import numpy as np\n",
    "from scipy import stats\n",
    "import matplotlib.pyplot as plt\n",
    "from pylab import savefig"
   ]
  },
  {
   "cell_type": "code",
   "execution_count": null,
   "metadata": {},
   "outputs": [],
   "source": [
    "# Define important variables\n",
    "df = pd.read_csv('predicted_IC50_for_concordance.csv')\n",
    "name_list = list(df.columns)\n",
    "name_list = list(df.columns[1:])\n",
    "ECFP_list = name_list[:5]\n",
    "Other_list = name_list[5:]"
   ]
  },
  {
   "cell_type": "code",
   "execution_count": null,
   "metadata": {},
   "outputs": [],
   "source": [
    "# Generate Bland-Altman Plots\n",
    "for a in ECFP_list:\n",
    "    for b in Other_list:\n",
    "        plt.rcParams.update({'font.size': 18})\n",
    "        blandAltman(df[f'{a}'], df[f'{b}'], dpi=300, figureSize=(12,5), figureFormat='png', savePath=f'blandAltmanPlots/{a}_vs_{b}.png')"
   ]
  },
  {
   "cell_type": "code",
   "execution_count": null,
   "metadata": {},
   "outputs": [],
   "source": [
    "# Define important variables and functions, and mask insignificant correlation\n",
    "target_id = [\n",
    "    'CHEMBL238', \n",
    "    'CHEMBL218', \n",
    "    'CHEMBL3650', \n",
    "    'CHEMBL220', \n",
    "    'CHEMBL248', \n",
    "]\n",
    "df = df.drop('cmpdname', axis=1)\n",
    "def corr_sig(df=None):\n",
    "    p_matrix = np.zeros(shape=(df.shape[1],df.shape[1]))\n",
    "    for col in df.columns:\n",
    "        for col2 in df.drop(col,axis=1).columns:\n",
    "            _ , p = stats.pearsonr(df[col],df[col2])\n",
    "            p_matrix[df.columns.to_list().index(col),df.columns.to_list().index(col2)] = p\n",
    "    return p_matrix\n",
    "\n",
    "p_values = corr_sig(df)\n",
    "mask = np.invert(np.tril(p_values<0.05))"
   ]
  },
  {
   "cell_type": "code",
   "execution_count": null,
   "metadata": {},
   "outputs": [],
   "source": [
    "# Generate Heat Maps\n",
    "for t in target_id:\n",
    "    new_df = df.filter(regex=f'{t}')\n",
    "    # Plotting with significance filter\n",
    "    corr = new_df.corr()                            # get correlation\n",
    "    p_values = corr_sig(new_df)                     # get p-Value\n",
    "    mask = np.invert(np.tril(p_values<0.05))    # mask - only get significant corr\n",
    "\n",
    "    sns.set(font_scale=1.6)\n",
    "    heatmap = sns.heatmap(new_df.corr(), mask=mask, annot=True, cmap='rocket')\n",
    "    figure = heatmap.get_figure()\n",
    "    figure.savefig(f'heatmaps/png/{t}.png', format = 'png', dpi=600, bbox_inches='tight')\n",
    "    figure.clf()"
   ]
  }
 ],
 "metadata": {
  "language_info": {
   "name": "python"
  },
  "orig_nbformat": 4
 },
 "nbformat": 4,
 "nbformat_minor": 2
}
