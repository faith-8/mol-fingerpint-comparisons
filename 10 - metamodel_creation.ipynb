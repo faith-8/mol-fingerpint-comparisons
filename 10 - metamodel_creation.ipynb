{
 "cells": [
  {
   "cell_type": "code",
   "execution_count": null,
   "metadata": {},
   "outputs": [],
   "source": [
    "# Initiate important libraries\n",
    "import pandas as pd\n",
    "import os\n",
    "import sys\n",
    "from pycaret.regression import *\n",
    "from sklearn.model_selection import train_test_split"
   ]
  },
  {
   "cell_type": "code",
   "execution_count": null,
   "metadata": {},
   "outputs": [],
   "source": [
    "# Define the meta model generation\n",
    "def meta_model_generator (chemblid, fingerprint_list, model_id = 'lightgbm', meta_model = 'lr'):\n",
    "    for x in chemblid:\n",
    "        recap_df = pd.DataFrame()\n",
    "        metrics_df = pd.DataFrame()\n",
    "        path = f'meta_models/metrics'\n",
    "        isExist = os.path.exists(path)\n",
    "        if not isExist:\n",
    "        # Create a new directory because it does not exist \n",
    "            os.makedirs(path)\n",
    "        path = f'meta_models/input'\n",
    "        isExist = os.path.exists(path)\n",
    "        if not isExist:\n",
    "        # Create a new directory because it does not exist \n",
    "            os.makedirs(path)\n",
    "        df = pd.read_csv(f'fingerprints\\{x}_{fingerprint_list[0]}.csv')\n",
    "        df_train, df_test = train_test_split(df, test_size = 0.30, random_state = 42)\n",
    "        reg = setup(df_train, target='pIC50', session_id=42, use_gpu=True, train_size=0.7, normalize=True, normalize_method='minmax', silent=True)\n",
    "        model = create_model(model_id)\n",
    "        metrics = pull()\n",
    "        final_model = finalize_model(model)\n",
    "        final_target = df_test['pIC50']\n",
    "        df_predict = predict_model(final_model, data=df_test)\n",
    "        metrics_df[f'{fingerprint_list[0]}'] = metrics['R2']\n",
    "        recap_df[f'{fingerprint_list[0]}'] = df_predict['Label']\n",
    "\n",
    "        df = pd.read_csv(f'fingerprints\\{x}_{fingerprint_list[1]}.csv')\n",
    "        df_train, df_test = train_test_split(df, test_size = 0.30, random_state = 42)\n",
    "        reg = setup(df_train, target='pIC50', session_id=42, use_gpu=True, train_size=0.7, normalize=True, normalize_method='minmax', silent=True)\n",
    "        model = create_model(model_id)\n",
    "        metrics = pull()\n",
    "        final_model = finalize_model(model)\n",
    "        final_target = df_test['pIC50']\n",
    "        df_predict = predict_model(final_model, data=df_test)\n",
    "        metrics_df[f'{fingerprint_list[1]}'] = metrics['R2']\n",
    "        recap_df[f'{fingerprint_list[1]}'] = df_predict['Label']\n",
    "        recap_df['pIC50'] = final_target\n",
    "        recap_df.to_csv(f'meta_models/input/{x}_meta_input_{fingerprint_list[0]}_{fingerprint_list[1]}_{model_id}.csv')\n",
    "\n",
    "        for m in meta_model:\n",
    "            reg = setup(recap_df, target='pIC50', session_id=42, use_gpu=True, train_size=0.7, normalize=True, normalize_method='minmax', silent=True)\n",
    "            meta = create_model(m)\n",
    "            meta_tuned = tune_model(meta, n_iter=25, choose_better= True)\n",
    "            metrics = pull()\n",
    "            metrics_df[f'{m}'] = metrics['R2']\n",
    "        metrics_df.to_csv(f'meta_models/metrics/{x}_meta_metrics_{fingerprint_list[0]}_{fingerprint_list[1]}.csv', index=False)"
   ]
  },
  {
   "cell_type": "code",
   "execution_count": null,
   "metadata": {},
   "outputs": [],
   "source": [
    "# Initiate important variables\n",
    "target_id = [\n",
    "    'CHEMBL238', \n",
    "    'CHEMBL218', \n",
    "    'CHEMBL3650', \n",
    "    'CHEMBL220', \n",
    "    'CHEMBL248', \n",
    "]\n",
    "fingerprints = [\n",
    "    'ECFP6_2048',\n",
    "    # 'mol2vec',\n",
    "    # 'pubchem',\n",
    "    'pairfps',\n",
    "    # 'rdk'\n",
    "]\n",
    "# Run the meta model generator. Currently this function only accepts exactly one pair of fingerprints, and therefore must be run several times\n",
    "meta_model_generator(target_id, fingerprints)"
   ]
  }
 ],
 "metadata": {
  "language_info": {
   "name": "python"
  },
  "orig_nbformat": 4
 },
 "nbformat": 4,
 "nbformat_minor": 2
}
